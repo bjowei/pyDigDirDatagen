{
 "cells": [
  {
   "cell_type": "markdown",
   "metadata": {},
   "source": [
    "# Datagenerering til DigDirCamp 2020\n",
    "\n",
    "av Bjørn Christian Weinbach, DigDir Campar.\n",
    "\n",
    "## Bakgrunn\n",
    "\n",
    "I vår applikasjon skal me demonstrere korleis tilgang til eins eigne persondata kan gjere det enklare å navigere i den norske offentlege sektor, spesielt for ungdom. Denne dataen er ikkje tilgjengeleg vha API i dag og vi er nøydd å generere denne dataen sjølv. Denne jupyter notebooken inneheld python-kode for generering av syntetiske data for ein populasjon som blei brukt som ein del av forarbeidet til prosjektet til DigDir Camparane i 2020.\n",
    "\n",
    "## Naudsynte imports"
   ]
  },
  {
   "cell_type": "code",
   "execution_count": null,
   "metadata": {},
   "outputs": [],
   "source": [
    "import pandas as pd\n",
    "import numpy as np\n",
    "import datetime\n",
    "import random\n",
    "import datetime\n",
    "import calendar\n",
    "from faker import Faker\n",
    "fake = Faker('no_NO')"
   ]
  },
  {
   "cell_type": "markdown",
   "metadata": {},
   "source": [
    "## Globale variablar\n",
    "\n",
    "$$\\text{testpnr} = \\text{Test-personnummer}$$"
   ]
  },
  {
   "cell_type": "code",
   "execution_count": null,
   "metadata": {},
   "outputs": [],
   "source": [
    "testpnr = ['23079412414',\n",
    "           '23079412333',\n",
    "           '23079412252',\n",
    "           '23079412171',\n",
    "           '31010650596',\n",
    "           '27080350274',\n",
    "           '04090751315',\n",
    "           '18060550537',\n",
    "           '23090350056',\n",
    "           '23079418366',\n",
    "           '23079418285',\n",
    "           '23079418013',\n",
    "           '23079417815']"
   ]
  },
  {
   "cell_type": "markdown",
   "metadata": {},
   "source": [
    "## Globale Funksjonar"
   ]
  },
  {
   "cell_type": "code",
   "execution_count": null,
   "metadata": {
    "tags": []
   },
   "outputs": [],
   "source": [
    "def tlfnr():\n",
    "    \"\"\"Return phone no in the norwegian style.\"\"\"\n",
    "    return random.randint(10000000, 99999999)\n",
    "\n",
    "def randomName(data):\n",
    "    \"\"\"Return random norwegian male or female name.\"\"\"\n",
    "    if random.randint(0, 1) == 1:   \n",
    "        malename = np.array(data[\"Herrenavn\"].sample(1, replace = True))\n",
    "        malelastname = np.array(data[\"Etternavn\"].sample(1, replace = True))\n",
    "        return (malename + \" \" + malelastname)[0], (malename + \".\" + malelastname + \"@norge.no\")[0]\n",
    "    else:\n",
    "        femalename = np.array(data[\"Kvinnenavn\"].sample(1, replace = True))\n",
    "        femalelastname = np.array(data[\"Etternavn\"].sample(1, replace = True))\n",
    "        return (femalename + \" \" + femalelastname)[0], (femalename + \".\" + femalelastname + \"@norge.no\")[0]\n",
    "\n",
    "def add_months(sourcedate, months):\n",
    "    month = sourcedate.month - 1 + months\n",
    "    year = sourcedate.year + month // 12\n",
    "    month = month % 12 + 1\n",
    "    day = min(sourcedate.day, calendar.monthrange(year,month)[1])\n",
    "    return datetime.date(year, month, day)"
   ]
  },
  {
   "cell_type": "markdown",
   "metadata": {},
   "source": [
    "## Last inn datasett\n",
    "\n",
    "### Kjelder\n",
    "\n",
    "Norske navn: https://no.wikipedia.org/wiki/Liste_over_norske_mannsnavn , https://no.wikipedia.org/wiki/Liste_over_norske_kvinnenavn og https://no.wikipedia.org/wiki/Liste_over_norske_etternavn\n",
    "\n",
    "Postnummer: https://data.norge.no/datasets/5e6847ba-156d-4e14-85d3-8d7f8b727523"
   ]
  },
  {
   "cell_type": "code",
   "execution_count": null,
   "metadata": {},
   "outputs": [],
   "source": [
    "data = pd.read_csv('navn.csv')\n",
    "post = pd.read_csv('postnr.csv', converters={'field_postnummer': lambda x: str(x)}, delimiter=';')\n",
    "medisiner = pd.read_csv('medisin.csv')\n",
    "timetype = pd.read_csv('timetype.csv')\n",
    "klinikk = pd.read_csv('klinikk.csv')\n",
    "sykehus = pd.read_csv('sykehus.csv')\n",
    "selskaper = pd.read_csv('selskaper.csv')\n",
    "emner = pd.read_csv('emner.csv')\n",
    "vaksinetyper = pd.read_csv('vaksinetyper.csv')"
   ]
  },
  {
   "cell_type": "markdown",
   "metadata": {},
   "source": [
    "## Kombiner til ein heil populasjon"
   ]
  },
  {
   "cell_type": "code",
   "execution_count": null,
   "metadata": {
    "tags": []
   },
   "outputs": [],
   "source": [
    "titl = []\n",
    "pnum = []\n",
    "name = []\n",
    "email = []\n",
    "fnum = []\n",
    "vig = []\n",
    "adress = []\n",
    "i = 0\n",
    "for t in testpnr:\n",
    "    titl.append(\"Node \" + str(i))\n",
    "    nam, ema = randomName(data)\n",
    "    pnum.append(t)\n",
    "    name.append(nam)\n",
    "    email.append(ema)\n",
    "    fnum.append(tlfnr())\n",
    "    adress.append(\"Test adresse \" + str(random.randint(1, 100)))\n",
    "    i += 1\n",
    "\n",
    "populasjon = pd.DataFrame()\n",
    "populasjon['title'] = titl\n",
    "populasjon['field_personnummer'] = pnum\n",
    "populasjon['field_namn'] = name\n",
    "populasjon['field_epost'] = email\n",
    "populasjon['field_tlf'] = fnum\n",
    "populasjon['field_adresse'] = adress\n",
    "populasjon[post.columns] = pd.concat([post.sample(len(testpnr), replace = True, axis = 0)], axis=0, ignore_index=True)\n",
    "populasjon.reset_index(drop=True)\n",
    "populasjon = populasjon.set_index(\"title\")"
   ]
  },
  {
   "cell_type": "markdown",
   "metadata": {},
   "source": [
    "## Populasjon -> CSV for Drupal import"
   ]
  },
  {
   "cell_type": "code",
   "execution_count": null,
   "metadata": {},
   "outputs": [],
   "source": [
    "populasjon.to_csv('personer.csv')"
   ]
  },
  {
   "cell_type": "markdown",
   "metadata": {},
   "source": [
    "## VIGO-> CSV for Drupal import"
   ]
  },
  {
   "cell_type": "code",
   "execution_count": null,
   "metadata": {},
   "outputs": [],
   "source": [
    "grades = ['field_rle_karakter',\n",
    "          'field_naturfag_karakter',\n",
    "          'field_matematikk_karakter',\n",
    "          'field_fysikk_',\n",
    "          'field_kjemi_1_karakter',\n",
    "          'field_kjemi_2_karakter',\n",
    "          'field_r_',\n",
    "          'field_samfunnsfag_karakter',\n",
    "          'field_spansk_karakter']\n",
    "\n",
    "absences = ['field_fysikk_fravaer',\n",
    "            'field_kjemi_1_fravaer',\n",
    "            'field_kjemi_2_fravaer',\n",
    "            'field_matematikk_fravaer',\n",
    "            'field_naturfag_fravaer',\n",
    "            'field_r2_fravaer',\n",
    "            'field_rle_fravaer',\n",
    "            'field_samfunnsfag_fravaer',\n",
    "            'field_spansk_fravaer']\n",
    "\n",
    "vigo = pd.DataFrame()\n",
    "vigo['title'] = titl\n",
    "vigo['field_personnummer_vigo'] = pnum\n",
    "\n",
    "for grade in grades:\n",
    "    vigo[grade] = np.random.randint(1, 6, len(testpnr))\n",
    "\n",
    "for absence in absences:\n",
    "    vigo[absence] = abs(np.random.normal(0.08, 0.02, len(testpnr)))\n",
    "\n",
    "vigo = vigo.reset_index(drop=True)\n",
    "vigo = vigo.set_index(\"title\")\n",
    "vigo.to_csv('vigo.csv')"
   ]
  },
  {
   "cell_type": "markdown",
   "metadata": {},
   "source": [
    "## Helsenorge-fastlege -> CSV for Drupal import"
   ]
  },
  {
   "cell_type": "code",
   "execution_count": null,
   "metadata": {
    "tags": []
   },
   "outputs": [],
   "source": [
    "docnam = []\n",
    "clinic = []\n",
    "tlf = []\n",
    "i = 0\n",
    "for _ in testpnr:\n",
    "    tmp2 = np.array(populasjon['field_poststad'])[i] + ' Helsesenter'\n",
    "    docnam.append(fake.name())\n",
    "    clinic.append(tmp2)\n",
    "    tlf.append(tlfnr())\n",
    "    i += 1\n",
    "\n",
    "health = pd.DataFrame()\n",
    "health['title'] = titl\n",
    "health['field_personnummer_helse'] = pnum\n",
    "health['field_fastlege'] = docnam\n",
    "health['field_legesenter'] = clinic\n",
    "health['field_helse_tlf'] = tlf\n",
    "health = health.reset_index(drop=True)\n",
    "healthgp = health.set_index(\"title\")\n",
    "healthgp.to_csv('helse.csv')"
   ]
  },
  {
   "cell_type": "markdown",
   "metadata": {},
   "source": [
    "## Helsenorge-resepter -> CSV for drupal import"
   ]
  },
  {
   "cell_type": "code",
   "execution_count": null,
   "metadata": {},
   "outputs": [],
   "source": [
    "res = []\n",
    "kategori = []\n",
    "dates = []\n",
    "node = []\n",
    "pids = []\n",
    "i = 0\n",
    "for pnr in testpnr:\n",
    "    for i in range(np.random.randint(1, 10)):\n",
    "        med = medisiner.sample(1, replace = True)\n",
    "        pids.append(pnr)\n",
    "        node.append(\"Node \" + str(i))\n",
    "        res.append(np.array(med[\"Medisin\"])[0])\n",
    "        kategori.append(np.array(med[\"Kategori\"])[0])\n",
    "        dates.append(fake.date_between(start_date='-1y', end_date='+1y'))\n",
    "\n",
    "resept = pd.DataFrame()\n",
    "resept['title'] = node\n",
    "resept['field_personnummer_resept'] = pids\n",
    "resept['field_resept'] = res\n",
    "resept['field_kategori'] = kategori\n",
    "resept['field_reseptdato'] = dates\n",
    "resept = resept.reset_index(drop=True)\n",
    "resept = resept.set_index(\"title\")\n",
    "resept.to_csv('resepter.csv')"
   ]
  },
  {
   "cell_type": "markdown",
   "metadata": {},
   "source": [
    "## Helsenorge-legetime -> CSV for drupal import"
   ]
  },
  {
   "cell_type": "code",
   "execution_count": null,
   "metadata": {},
   "outputs": [],
   "source": [
    "lege = []\n",
    "dates = []\n",
    "node = []\n",
    "pids = []\n",
    "typ = []\n",
    "syk = []\n",
    "kli = []\n",
    "i = 0\n",
    "for pnr in testpnr:\n",
    "    for _ in range(np.random.randint(1, 10)):\n",
    "        pids.append(pnr)\n",
    "        node.append(\"Node \" + str(i))\n",
    "        lege.append(fake.name())\n",
    "        dates.append(fake.date_time_between(start_date='-1y', end_date='+1y'))\n",
    "        t = timetype.sample(1, replace = True)\n",
    "        s = sykehus.sample(1, replace = True)\n",
    "        k = klinikk.sample(1, replace = True)\n",
    "        typ.append(np.array(t[\"type\"])[0])\n",
    "        syk.append(np.array(s[\"sykehus\"])[0])\n",
    "        kli.append(np.array(k[\"klinikk\"])[0])\n",
    "        i = i + 1\n",
    "\n",
    "time = pd.DataFrame()\n",
    "time['title'] = node\n",
    "time['field_personnummer_legetime'] = pids\n",
    "time['field_lege'] = lege\n",
    "time['field_datetime_legetime'] = dates\n",
    "time['field_type'] = typ\n",
    "time['field_sykehus'] = syk\n",
    "time['field_sted'] = kli\n",
    "time = time.reset_index(drop=True)\n",
    "time = time.set_index(\"title\")\n",
    "time.to_csv('legetime.csv')"
   ]
  },
  {
   "cell_type": "markdown",
   "metadata": {},
   "source": [
    "## Helsenorge-vaksiner -> CSV for drupal import"
   ]
  },
  {
   "cell_type": "code",
   "execution_count": null,
   "metadata": {},
   "outputs": [],
   "source": [
    "vaksiner = pd.DataFrame()\n",
    "i = 0\n",
    "for num in testpnr:\n",
    "    for _ in range(np.random.randint(7, 15)):\n",
    "        vaksiner = vaksiner.append( {\n",
    "            'title' : \"Node \" + str(i),\n",
    "            'field_vaksiner_personnummer' : num,\n",
    "            'field_vaksiner_type' : np.array(vaksinetyper.sample(1, replace=True).reset_index(drop=True))[0][0],\n",
    "            'field_vaksiner_date' : fake.date_between(start_date='-25y', end_date='today')\n",
    "            },\n",
    "            ignore_index=True\n",
    "        )\n",
    "        i = i + 1\n",
    "vaksiner = vaksiner.reset_index(drop=True)\n",
    "vaksiner = vaksiner.set_index(\"title\")\n",
    "vaksiner.to_csv('vaksiner.csv')"
   ]
  },
  {
   "cell_type": "markdown",
   "metadata": {},
   "source": [
    "## Lånekassen -> CSV for Drupal import\n",
    "\n",
    "Statistikk brukt i dette eksempelet er henta frå https://data.lanekassen.no/statistikk/temasider/videregaaende-utdanning/"
   ]
  },
  {
   "cell_type": "code",
   "execution_count": null,
   "metadata": {},
   "outputs": [],
   "source": [
    "laanekassen = pd.DataFrame()\n",
    "laanekassen['title'] = titl\n",
    "laanekassen['field_lanekassen_personnummer'] = pnum\n",
    "laanekassen['field_utstyrstipend'] = np.ones(len(testpnr)) * 1660\n",
    "laanekassen['field_stipend'] = np.random.binomial(1, 0.21, len(testpnr)) * 13626\n",
    "laanekassen['field_borteboerstipend'] = np.random.binomial(1, 0.21, len(testpnr)) * 43753\n",
    "laanekassen['field_lan'] = np.random.binomial(1, 0.061, len(testpnr)) * 25826\n",
    "laanekassen['field_lan_utbetaling'] = (laanekassen['field_stipend'] +\n",
    "                            laanekassen['field_borteboerstipend'] + \n",
    "                            laanekassen['field_lan']) * (1/10) + laanekassen['field_utstyrstipend']\n",
    "laanekassen = laanekassen.reset_index(drop=True)\n",
    "laanekassen = laanekassen.set_index(\"title\")\n",
    "laanekassen.to_csv('laanekassen.csv')"
   ]
  },
  {
   "cell_type": "markdown",
   "metadata": {},
   "source": [
    "## Utbetalinger -> CSV for Drupal import"
   ]
  },
  {
   "cell_type": "code",
   "execution_count": null,
   "metadata": {
    "tags": []
   },
   "outputs": [],
   "source": [
    "utbetalinger = pd.DataFrame()\n",
    "i = 0\n",
    "for num in testpnr:\n",
    "    date = datetime.date(year=2019, month=7, day=12)\n",
    "    for _ in range(12):\n",
    "        utbetalinger = utbetalinger.append( {\n",
    "            'title' : \"Node \" + str(i),\n",
    "            'field_utbetalinger_personnummer' : num,\n",
    "            'field_utbetalinger' : round(np.array(laanekassen[laanekassen['field_lanekassen_personnummer'] == num]['field_lan_utbetaling'])[0]),\n",
    "            'field_utbetaling_dato' : date\n",
    "            },\n",
    "            ignore_index=True\n",
    "        )\n",
    "        date = add_months(date, 1)\n",
    "        i = i + 1\n",
    "utbetalinger = utbetalinger.reset_index(drop=True)\n",
    "utbetalinger = utbetalinger.set_index(\"title\")\n",
    "utbetalinger.to_csv('utbetaling.csv')"
   ]
  },
  {
   "cell_type": "markdown",
   "metadata": {},
   "source": [
    "## Skatteetaten -> CSV for Drupal import\n",
    "\n"
   ]
  },
  {
   "cell_type": "code",
   "execution_count": null,
   "metadata": {},
   "outputs": [],
   "source": [
    "skatt = pd.DataFrame()\n",
    "skatt['title'] = titl\n",
    "skatt['field_skatt_personnummer'] = pnum\n",
    "arr1 = np.random.randint(0, 20000, 100)\n",
    "arr2 = np.random.randint(20000, 100000, 100)\n",
    "distrobution = np.concatenate((arr1, arr2))\n",
    "skatt['field_inntekt'] = np.random.choice(distrobution, len(testpnr))\n",
    "conditions = [\n",
    "    (skatt['field_inntekt'] <= 55000),\n",
    "    (skatt['field_inntekt'] > 55000) & (skatt['field_inntekt'] <= 65000),\n",
    "    (skatt['field_inntekt'] > 65000) & (skatt['field_inntekt'] <= 75000),\n",
    "    (skatt['field_inntekt'] > 75000) & (skatt['field_inntekt'] <= 85000),\n",
    "    (skatt['field_inntekt'] > 85000) & (skatt['field_inntekt'] <= 95000)\n",
    "    ]\n",
    "values = [0, \n",
    "          skatt['field_inntekt']*0.05,\n",
    "          skatt['field_inntekt']*0.10,\n",
    "          skatt['field_inntekt']*0.15,\n",
    "          skatt['field_inntekt']*0.20,]\n",
    "skatt['field_skatt'] = np.select(conditions, values)\n",
    "skatt['field_skatteprosent'] = skatt['field_skatt'] / skatt['field_inntekt']\n",
    "skatt['field_selskap1'] = selskaper.sample(len(testpnr), replace=True).reset_index(drop=True)\n",
    "skatt['field_dato1'] = [fake.date_between(start_date='-1y', end_date='today') for _ in range(len(testpnr))]\n",
    "skatt['field_selskap2'] = selskaper.sample(len(testpnr), replace=True).reset_index(drop=True)\n",
    "skatt['field_dato2'] = [fake.date_between(start_date='-2y', end_date='-1y') for _ in range(len(testpnr))]\n",
    "skatt['field_selskap3'] = selskaper.sample(len(testpnr), replace=True).reset_index(drop=True)\n",
    "skatt['field_dato3'] = [fake.date_between(start_date='-3y', end_date='-2y') for _ in range(len(testpnr))]\n",
    "skatt = skatt.reset_index(drop=True)\n",
    "skatt = skatt.set_index(\"title\")\n",
    "skatt.to_csv('skatt.csv')"
   ]
  },
  {
   "cell_type": "markdown",
   "metadata": {},
   "source": [
    "## Digipost -> CSV for drupal import"
   ]
  },
  {
   "cell_type": "code",
   "execution_count": null,
   "metadata": {},
   "outputs": [],
   "source": [
    "digipost = pd.DataFrame()\n",
    "i = 0\n",
    "for num in testpnr:\n",
    "    for _ in range(np.random.randint(1, 10)):\n",
    "        digipost = digipost.append( {\n",
    "            'title' : \"Node \" + str(i),\n",
    "            'field_digipost_personnummer' : num,\n",
    "            'field_digipost_emne' : np.array(emner.sample(1, replace=True).reset_index(drop=True))[0][0],\n",
    "            'field_digipost_innhold' : fake.text(1000),\n",
    "            'field_digipost_datetime' : fake.date_between(start_date='-8y', end_date='today')\n",
    "            },\n",
    "            ignore_index=True\n",
    "        )\n",
    "        i = i + 1\n",
    "digipost['field_digipost_sender'] = selskaper.sample(i-1, replace=True).reset_index(drop=True)\n",
    "digipost = digipost.reset_index(drop=True)\n",
    "digipost = digipost.set_index(\"title\")\n",
    "digipost.to_csv('digipost.csv')"
   ]
  }
 ],
 "metadata": {
  "language_info": {
   "codemirror_mode": {
    "name": "ipython",
    "version": 3
   },
   "file_extension": ".py",
   "mimetype": "text/x-python",
   "name": "python",
   "nbconvert_exporter": "python",
   "pygments_lexer": "ipython3",
   "version": "3.8.3-final"
  },
  "orig_nbformat": 2,
  "kernelspec": {
   "name": "python38364bitpydigdirconda79d9abb225414d81a71086b23337a662",
   "display_name": "Python 3.8.3 64-bit ('pyDigDir': conda)"
  }
 },
 "nbformat": 4,
 "nbformat_minor": 2
}