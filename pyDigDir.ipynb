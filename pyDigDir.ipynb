{
 "cells": [
  {
   "cell_type": "markdown",
   "metadata": {},
   "source": [
    "# Datagenerering til DigDirCamp 2020\n",
    "\n",
    "av Bjørn Christian Weinbach, DigDir Campar.\n",
    "\n",
    "## Bakgrunn\n",
    "\n",
    "I vår applikasjon skal me demonstrere korleis tilgang til eins eigne persondata kan gjere det enklare å navigere i den norske offentlege sektor, spesielt for ungdom. Denne dataen er ikkje tilgjengeleg vha API i dag og vi er nøydd å generere denne dataen sjølv. Denne jupyter notebooken inneheld python-kode for generering av syntetiske data for ein populasjon som blei brukt som ein del av forarbeidet til prosjektet til DigDir Camparane i 2020.\n",
    "\n",
    "## Naudsynte imports"
   ]
  },
  {
   "cell_type": "code",
   "execution_count": null,
   "metadata": {},
   "outputs": [],
   "source": [
    "import pandas as pd\n",
    "import numpy as np\n",
    "import datetime\n",
    "import random\n",
    "import datetime"
   ]
  },
  {
   "cell_type": "markdown",
   "metadata": {},
   "source": [
    "## Globale variablar\n",
    "\n",
    "$$N = \\text{Utvalg menn}$$\n",
    "$$M = \\text{Utvalg kvinner}$$"
   ]
  },
  {
   "cell_type": "code",
   "execution_count": null,
   "metadata": {},
   "outputs": [],
   "source": [
    "N = 20\n",
    "M = 20"
   ]
  },
  {
   "cell_type": "markdown",
   "metadata": {},
   "source": [
    "## Globale Funksjonar"
   ]
  },
  {
   "cell_type": "code",
   "execution_count": null,
   "metadata": {
    "tags": []
   },
   "outputs": [],
   "source": [
    "# create function accepting a single parameter, the year as a four digit number\n",
    "def get_random_date(startyear, endyear):\n",
    "    \"\"\"\n",
    "    Select random date in range between two years.\n",
    "\n",
    "    Input:\n",
    "        startyear (int) - year in beginning of range\n",
    "        endyear (int) - year at end of range\n",
    "\n",
    "    Output:\n",
    "        date (datetime) - random date in range.\n",
    "    \"\"\"\n",
    "    year = random.randint(startyear, endyear)\n",
    "    # try to get a date\n",
    "    try:\n",
    "        return datetime.datetime.strptime('{} {}'.format(random.randint(1, 366), year), '%j %Y')\n",
    "\n",
    "    # if the value happens to be in the leap year range, try again\n",
    "    except ValueError:\n",
    "        return get_random_date(year)\n",
    "\n",
    "\n",
    "def personnr():\n",
    "    \"\"\"\n",
    "    Generate random personal number in the Norwegian style.\n",
    "\n",
    "    Dependent on get_random_date function\n",
    "\n",
    "    Output:\n",
    "        int - personal number\n",
    "    \"\"\"\n",
    "    fdato = get_random_date(1919, 2019)\n",
    "    return str(fdato.strftime('%d%m%y')) + str(random.randint(10000, 99999))\n",
    "\n",
    "def tlfnr():\n",
    "    \"\"\"Return phone no in the norwegian style.\"\"\"\n",
    "    return random.randint(10000000, 99999999)\n",
    "\n",
    "def adr(post):\n",
    "    \"\"\"Generate random adress in the norwegian style.\"\"\"\n",
    "    tmp = post.sample(1, replace = True, axis=0)\n",
    "    adresss = tmp[\"Postnummer\"]\n",
    "    city = tmp[\"Poststed\"]\n",
    "    return [adress, city]"
   ]
  },
  {
   "cell_type": "markdown",
   "metadata": {},
   "source": [
    "## Globale klasser"
   ]
  },
  {
   "cell_type": "code",
   "execution_count": null,
   "metadata": {},
   "outputs": [],
   "source": [
    "class vigo:\n",
    "    \"\"\"\n",
    "    Class for vigo-data in data generation code.\n",
    "\n",
    "    Methods:\n",
    "        __init__() : initialize class with random variables\n",
    "    \"\"\"\n",
    "\n",
    "    def __init__(self):\n",
    "        \"\"\"Initialize object with random data.\"\"\"\n",
    "        self.grades = {'RLE' : random.randint(1, 6),\n",
    "                       'Naturfag' : random.randint(1, 6),\n",
    "                       'Matematikk' : random.randint(1, 6)}\n",
    "        self.absence = {'RLE' : abs(np.random.normal(0.05, 0.03)),\n",
    "                        'Naturfag' : abs(np.random.normal(0.05, 0.03)),\n",
    "                        'Matematikk' : abs(np.random.normal(0.05, 0.03))}"
   ]
  },
  {
   "cell_type": "markdown",
   "metadata": {},
   "source": [
    "## Generer syntetiske navn\n",
    "\n",
    "### Kjelder\n",
    "\n",
    "Norske navn: https://no.wikipedia.org/wiki/Liste_over_norske_mannsnavn , https://no.wikipedia.org/wiki/Liste_over_norske_kvinnenavn og https://no.wikipedia.org/wiki/Liste_over_norske_etternavn\n",
    "\n",
    "Postnummer: https://data.norge.no/datasets/5e6847ba-156d-4e14-85d3-8d7f8b727523"
   ]
  },
  {
   "cell_type": "code",
   "execution_count": null,
   "metadata": {},
   "outputs": [],
   "source": [
    "data = pd.read_csv('navn.csv')\n",
    "post = pd.read_csv('postnr.csv', converters={'Postnummer': lambda x: str(x)})"
   ]
  },
  {
   "cell_type": "markdown",
   "metadata": {},
   "source": [
    "## Lag eit tilfeldig utvalg av menn\n",
    "\n",
    "$$N = \\text{Utvalg menn}$$"
   ]
  },
  {
   "cell_type": "code",
   "execution_count": null,
   "metadata": {
    "tags": []
   },
   "outputs": [],
   "source": [
    "mennFornavn = np.array(data[\"Malename\"].sample(N, replace = True))\n",
    "mennEtternavn = np.array(data[\"Lastname\"].sample(N, replace = True))"
   ]
  },
  {
   "cell_type": "markdown",
   "metadata": {},
   "source": [
    "## Lag eit tilfeldig utvalg av kvinner\n",
    "\n",
    "$$M = \\text{Utvalg kvinner}$$"
   ]
  },
  {
   "cell_type": "code",
   "execution_count": null,
   "metadata": {},
   "outputs": [],
   "source": [
    "kvinnerFornavn = np.array(data[\"Femalename\"].sample(M, replace = True))\n",
    "kvinnerEtternavn = np.array(data[\"Lastname\"].sample(M, replace = True))"
   ]
  },
  {
   "cell_type": "markdown",
   "metadata": {},
   "source": [
    "## Kombiner til ein heil populasjon og lagre som JSON"
   ]
  },
  {
   "cell_type": "code",
   "execution_count": null,
   "metadata": {
    "tags": []
   },
   "outputs": [],
   "source": [
    "menn = pd.DataFrame({'Name' : mennFornavn, 'Lastname' : mennEtternavn})\n",
    "kvinner = pd.DataFrame({'Name' : kvinnerFornavn, 'Lastname' : kvinnerEtternavn})\n",
    "\n",
    "pnum = []\n",
    "fnum = []\n",
    "vig = []\n",
    "adress = []\n",
    "for _ in range(M+N):\n",
    "    pnum.append(personnr())\n",
    "    fnum.append(tlfnr())\n",
    "    vig.append(vigo())\n",
    "    adress.append(\"Test adresse \" + str(random.randint(1, 100)))\n",
    "\n",
    "if pd.Series(pnum).is_unique & pd.Series(fnum).is_unique:\n",
    "    populasjon = pd.concat([menn, kvinner])\n",
    "    populasjon['Personalno'] = pnum\n",
    "    populasjon['Phoneno'] = fnum\n",
    "    populasjon['Adress'] = adress\n",
    "    populasjon[post.columns] = pd.concat([post.sample(M+N, replace = True, axis = 0)], axis=0, ignore_index=True)\n",
    "    populasjon['VIGO'] = [{'Grade' : v.grades, 'Absence' : v.absence} for v in vig]\n",
    "    populasjon = populasjon.reset_index(drop=True)\n",
    "    populasjon = populasjon.set_index(\"Personalno\")\n",
    "    populasjon.to_json(r'populasjon.json')\n",
    "\n",
    "else:\n",
    "    print(\"Two or more identical personal numbers\")"
   ]
  }
 ],
 "metadata": {
  "language_info": {
   "codemirror_mode": {
    "name": "ipython",
    "version": 3
   },
   "file_extension": ".py",
   "mimetype": "text/x-python",
   "name": "python",
   "nbconvert_exporter": "python",
   "pygments_lexer": "ipython3",
   "version": "3.8.3-final"
  },
  "orig_nbformat": 2,
  "kernelspec": {
   "name": "python38364bitpydigdirconda79d9abb225414d81a71086b23337a662",
   "display_name": "Python 3.8.3 64-bit ('pyDigDir': conda)"
  }
 },
 "nbformat": 4,
 "nbformat_minor": 2
}