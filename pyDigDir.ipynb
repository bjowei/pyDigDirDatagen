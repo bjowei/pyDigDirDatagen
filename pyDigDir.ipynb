{
 "cells": [
  {
   "cell_type": "markdown",
   "metadata": {},
   "source": [
    "# Datagenerering til DigDirCamp 2020\n",
    "\n",
    "av Bjørn Christian Weinbach, DigDir Campar.\n",
    "\n",
    "## Bakgrunn\n",
    "\n",
    "I vår applikasjon skal me demonstrere korleis tilgang til eins eigne persondata kan gjere det enklare å navigere i den norske offentlege sektor, spesielt for ungdom. Denne dataen er ikkje tilgjengeleg vha API i dag og vi er nøydd å generere denne dataen sjølv. Denne jupyter notebooken inneheld python-kode for generering av syntetiske data for ein populasjon som blei brukt som ein del av forarbeidet til prosjektet til DigDir Camparane i 2020.\n",
    "\n",
    "## Naudsynte imports"
   ]
  },
  {
   "cell_type": "code",
   "execution_count": 1,
   "metadata": {},
   "outputs": [],
   "source": [
    "import pandas as pd\n",
    "import numpy as np\n",
    "import datetime\n",
    "import random\n",
    "import datetime"
   ]
  },
  {
   "cell_type": "markdown",
   "metadata": {},
   "source": [
    "## Globale variablar\n",
    "\n",
    "$$\\text{testpnr} = \\text{Test-personnummer}$$"
   ]
  },
  {
   "cell_type": "code",
   "execution_count": 2,
   "metadata": {},
   "outputs": [],
   "source": [
    "testpnr = ['23079412414',\n",
    "           '23079412333',\n",
    "           '23079412252',\n",
    "           '23079412171',\n",
    "           '31010650596',\n",
    "           '27080350274',\n",
    "           '04090751315',\n",
    "           '18060550537',\n",
    "           '23090350056',\n",
    "           '23079418366',\n",
    "           '23079418285',\n",
    "           '23079418013',\n",
    "           '23079417815']"
   ]
  },
  {
   "cell_type": "markdown",
   "metadata": {},
   "source": [
    "## Globale Funksjonar"
   ]
  },
  {
   "cell_type": "code",
   "execution_count": 3,
   "metadata": {
    "tags": []
   },
   "outputs": [],
   "source": [
    "def tlfnr():\n",
    "    \"\"\"Return phone no in the norwegian style.\"\"\"\n",
    "    return random.randint(10000000, 99999999)\n",
    "\n",
    "def randomName(data):\n",
    "    \"\"\"Return random norwegian male or female name.\"\"\"\n",
    "    if random.randint(0, 1) == 1:   \n",
    "        malename = np.array(data[\"Malename\"].sample(1, replace = True))\n",
    "        malelastname = np.array(data[\"Lastname\"].sample(1, replace = True))\n",
    "        return (malename + \" \" + malelastname)[0], (malename + \".\" + malelastname + \"@norge.no\")[0]\n",
    "    else:\n",
    "        femalename = np.array(data[\"Femalename\"].sample(1, replace = True))\n",
    "        femalelastname = np.array(data[\"Lastname\"].sample(1, replace = True))\n",
    "        return (femalename + \" \" + femalelastname)[0], (femalename + \".\" + femalelastname + \"@norge.no\")[0]"
   ]
  },
  {
   "cell_type": "markdown",
   "metadata": {},
   "source": [
    "## Last inn datasett\n",
    "\n",
    "### Kjelder\n",
    "\n",
    "Norske navn: https://no.wikipedia.org/wiki/Liste_over_norske_mannsnavn , https://no.wikipedia.org/wiki/Liste_over_norske_kvinnenavn og https://no.wikipedia.org/wiki/Liste_over_norske_etternavn\n",
    "\n",
    "Postnummer: https://data.norge.no/datasets/5e6847ba-156d-4e14-85d3-8d7f8b727523"
   ]
  },
  {
   "cell_type": "code",
   "execution_count": 6,
   "metadata": {},
   "outputs": [],
   "source": [
    "data = pd.read_csv('navn.csv')\n",
    "post = pd.read_csv('postnr.csv', converters={'Postnummer': lambda x: str(x)})"
   ]
  },
  {
   "cell_type": "code",
   "execution_count": 7,
   "metadata": {},
   "outputs": [
    {
     "output_type": "error",
     "ename": "UnicodeDecodeError",
     "evalue": "'utf-8' codec can't decode byte 0xd8 in position 1: invalid continuation byte",
     "traceback": [
      "\u001b[1;31m---------------------------------------------------------------------------\u001b[0m",
      "\u001b[1;31mUnicodeDecodeError\u001b[0m                        Traceback (most recent call last)",
      "\u001b[1;32mpandas\\_libs\\parsers.pyx\u001b[0m in \u001b[0;36mpandas._libs.parsers.TextReader._convert_tokens\u001b[1;34m()\u001b[0m\n",
      "\u001b[1;32mpandas\\_libs\\parsers.pyx\u001b[0m in \u001b[0;36mpandas._libs.parsers.TextReader._convert_with_dtype\u001b[1;34m()\u001b[0m\n",
      "\u001b[1;32mpandas\\_libs\\parsers.pyx\u001b[0m in \u001b[0;36mpandas._libs.parsers.TextReader._string_convert\u001b[1;34m()\u001b[0m\n",
      "\u001b[1;32mpandas\\_libs\\parsers.pyx\u001b[0m in \u001b[0;36mpandas._libs.parsers._string_box_utf8\u001b[1;34m()\u001b[0m\n",
      "\u001b[1;31mUnicodeDecodeError\u001b[0m: 'utf-8' codec can't decode byte 0xd8 in position 1: invalid continuation byte",
      "\nDuring handling of the above exception, another exception occurred:\n",
      "\u001b[1;31mUnicodeDecodeError\u001b[0m                        Traceback (most recent call last)",
      "\u001b[1;32m<ipython-input-7-54d1d620fba7>\u001b[0m in \u001b[0;36m<module>\u001b[1;34m\u001b[0m\n\u001b[1;32m----> 1\u001b[1;33m \u001b[0mdf\u001b[0m \u001b[1;33m=\u001b[0m \u001b[0mpd\u001b[0m\u001b[1;33m.\u001b[0m\u001b[0mread_table\u001b[0m\u001b[1;33m(\u001b[0m\u001b[1;34m'Postnummerregister-ansi.txt'\u001b[0m\u001b[1;33m,\u001b[0m \u001b[0mdelim_whitespace\u001b[0m\u001b[1;33m=\u001b[0m\u001b[1;32mTrue\u001b[0m\u001b[1;33m,\u001b[0m \u001b[0mnames\u001b[0m\u001b[1;33m=\u001b[0m\u001b[1;33m(\u001b[0m\u001b[1;34m'Postnr'\u001b[0m\u001b[1;33m,\u001b[0m \u001b[1;34m'Poststed'\u001b[0m\u001b[1;33m,\u001b[0m \u001b[1;34m'blæ'\u001b[0m\u001b[1;33m,\u001b[0m \u001b[1;34m'blæ2'\u001b[0m\u001b[1;33m)\u001b[0m\u001b[1;33m)\u001b[0m\u001b[1;33m\u001b[0m\u001b[1;33m\u001b[0m\u001b[0m\n\u001b[0m",
      "\u001b[1;32mC:\\tools\\Anaconda3\\envs\\pyDigDir\\lib\\site-packages\\pandas\\io\\parsers.py\u001b[0m in \u001b[0;36mparser_f\u001b[1;34m(filepath_or_buffer, sep, delimiter, header, names, index_col, usecols, squeeze, prefix, mangle_dupe_cols, dtype, engine, converters, true_values, false_values, skipinitialspace, skiprows, skipfooter, nrows, na_values, keep_default_na, na_filter, verbose, skip_blank_lines, parse_dates, infer_datetime_format, keep_date_col, date_parser, dayfirst, cache_dates, iterator, chunksize, compression, thousands, decimal, lineterminator, quotechar, quoting, doublequote, escapechar, comment, encoding, dialect, error_bad_lines, warn_bad_lines, delim_whitespace, low_memory, memory_map, float_precision)\u001b[0m\n\u001b[0;32m    674\u001b[0m         )\n\u001b[0;32m    675\u001b[0m \u001b[1;33m\u001b[0m\u001b[0m\n\u001b[1;32m--> 676\u001b[1;33m         \u001b[1;32mreturn\u001b[0m \u001b[0m_read\u001b[0m\u001b[1;33m(\u001b[0m\u001b[0mfilepath_or_buffer\u001b[0m\u001b[1;33m,\u001b[0m \u001b[0mkwds\u001b[0m\u001b[1;33m)\u001b[0m\u001b[1;33m\u001b[0m\u001b[1;33m\u001b[0m\u001b[0m\n\u001b[0m\u001b[0;32m    677\u001b[0m \u001b[1;33m\u001b[0m\u001b[0m\n\u001b[0;32m    678\u001b[0m     \u001b[0mparser_f\u001b[0m\u001b[1;33m.\u001b[0m\u001b[0m__name__\u001b[0m \u001b[1;33m=\u001b[0m \u001b[0mname\u001b[0m\u001b[1;33m\u001b[0m\u001b[1;33m\u001b[0m\u001b[0m\n",
      "\u001b[1;32mC:\\tools\\Anaconda3\\envs\\pyDigDir\\lib\\site-packages\\pandas\\io\\parsers.py\u001b[0m in \u001b[0;36m_read\u001b[1;34m(filepath_or_buffer, kwds)\u001b[0m\n\u001b[0;32m    452\u001b[0m \u001b[1;33m\u001b[0m\u001b[0m\n\u001b[0;32m    453\u001b[0m     \u001b[1;32mtry\u001b[0m\u001b[1;33m:\u001b[0m\u001b[1;33m\u001b[0m\u001b[1;33m\u001b[0m\u001b[0m\n\u001b[1;32m--> 454\u001b[1;33m         \u001b[0mdata\u001b[0m \u001b[1;33m=\u001b[0m \u001b[0mparser\u001b[0m\u001b[1;33m.\u001b[0m\u001b[0mread\u001b[0m\u001b[1;33m(\u001b[0m\u001b[0mnrows\u001b[0m\u001b[1;33m)\u001b[0m\u001b[1;33m\u001b[0m\u001b[1;33m\u001b[0m\u001b[0m\n\u001b[0m\u001b[0;32m    455\u001b[0m     \u001b[1;32mfinally\u001b[0m\u001b[1;33m:\u001b[0m\u001b[1;33m\u001b[0m\u001b[1;33m\u001b[0m\u001b[0m\n\u001b[0;32m    456\u001b[0m         \u001b[0mparser\u001b[0m\u001b[1;33m.\u001b[0m\u001b[0mclose\u001b[0m\u001b[1;33m(\u001b[0m\u001b[1;33m)\u001b[0m\u001b[1;33m\u001b[0m\u001b[1;33m\u001b[0m\u001b[0m\n",
      "\u001b[1;32mC:\\tools\\Anaconda3\\envs\\pyDigDir\\lib\\site-packages\\pandas\\io\\parsers.py\u001b[0m in \u001b[0;36mread\u001b[1;34m(self, nrows)\u001b[0m\n\u001b[0;32m   1131\u001b[0m     \u001b[1;32mdef\u001b[0m \u001b[0mread\u001b[0m\u001b[1;33m(\u001b[0m\u001b[0mself\u001b[0m\u001b[1;33m,\u001b[0m \u001b[0mnrows\u001b[0m\u001b[1;33m=\u001b[0m\u001b[1;32mNone\u001b[0m\u001b[1;33m)\u001b[0m\u001b[1;33m:\u001b[0m\u001b[1;33m\u001b[0m\u001b[1;33m\u001b[0m\u001b[0m\n\u001b[0;32m   1132\u001b[0m         \u001b[0mnrows\u001b[0m \u001b[1;33m=\u001b[0m \u001b[0m_validate_integer\u001b[0m\u001b[1;33m(\u001b[0m\u001b[1;34m\"nrows\"\u001b[0m\u001b[1;33m,\u001b[0m \u001b[0mnrows\u001b[0m\u001b[1;33m)\u001b[0m\u001b[1;33m\u001b[0m\u001b[1;33m\u001b[0m\u001b[0m\n\u001b[1;32m-> 1133\u001b[1;33m         \u001b[0mret\u001b[0m \u001b[1;33m=\u001b[0m \u001b[0mself\u001b[0m\u001b[1;33m.\u001b[0m\u001b[0m_engine\u001b[0m\u001b[1;33m.\u001b[0m\u001b[0mread\u001b[0m\u001b[1;33m(\u001b[0m\u001b[0mnrows\u001b[0m\u001b[1;33m)\u001b[0m\u001b[1;33m\u001b[0m\u001b[1;33m\u001b[0m\u001b[0m\n\u001b[0m\u001b[0;32m   1134\u001b[0m \u001b[1;33m\u001b[0m\u001b[0m\n\u001b[0;32m   1135\u001b[0m         \u001b[1;31m# May alter columns / col_dict\u001b[0m\u001b[1;33m\u001b[0m\u001b[1;33m\u001b[0m\u001b[1;33m\u001b[0m\u001b[0m\n",
      "\u001b[1;32mC:\\tools\\Anaconda3\\envs\\pyDigDir\\lib\\site-packages\\pandas\\io\\parsers.py\u001b[0m in \u001b[0;36mread\u001b[1;34m(self, nrows)\u001b[0m\n\u001b[0;32m   2035\u001b[0m     \u001b[1;32mdef\u001b[0m \u001b[0mread\u001b[0m\u001b[1;33m(\u001b[0m\u001b[0mself\u001b[0m\u001b[1;33m,\u001b[0m \u001b[0mnrows\u001b[0m\u001b[1;33m=\u001b[0m\u001b[1;32mNone\u001b[0m\u001b[1;33m)\u001b[0m\u001b[1;33m:\u001b[0m\u001b[1;33m\u001b[0m\u001b[1;33m\u001b[0m\u001b[0m\n\u001b[0;32m   2036\u001b[0m         \u001b[1;32mtry\u001b[0m\u001b[1;33m:\u001b[0m\u001b[1;33m\u001b[0m\u001b[1;33m\u001b[0m\u001b[0m\n\u001b[1;32m-> 2037\u001b[1;33m             \u001b[0mdata\u001b[0m \u001b[1;33m=\u001b[0m \u001b[0mself\u001b[0m\u001b[1;33m.\u001b[0m\u001b[0m_reader\u001b[0m\u001b[1;33m.\u001b[0m\u001b[0mread\u001b[0m\u001b[1;33m(\u001b[0m\u001b[0mnrows\u001b[0m\u001b[1;33m)\u001b[0m\u001b[1;33m\u001b[0m\u001b[1;33m\u001b[0m\u001b[0m\n\u001b[0m\u001b[0;32m   2038\u001b[0m         \u001b[1;32mexcept\u001b[0m \u001b[0mStopIteration\u001b[0m\u001b[1;33m:\u001b[0m\u001b[1;33m\u001b[0m\u001b[1;33m\u001b[0m\u001b[0m\n\u001b[0;32m   2039\u001b[0m             \u001b[1;32mif\u001b[0m \u001b[0mself\u001b[0m\u001b[1;33m.\u001b[0m\u001b[0m_first_chunk\u001b[0m\u001b[1;33m:\u001b[0m\u001b[1;33m\u001b[0m\u001b[1;33m\u001b[0m\u001b[0m\n",
      "\u001b[1;32mpandas\\_libs\\parsers.pyx\u001b[0m in \u001b[0;36mpandas._libs.parsers.TextReader.read\u001b[1;34m()\u001b[0m\n",
      "\u001b[1;32mpandas\\_libs\\parsers.pyx\u001b[0m in \u001b[0;36mpandas._libs.parsers.TextReader._read_low_memory\u001b[1;34m()\u001b[0m\n",
      "\u001b[1;32mpandas\\_libs\\parsers.pyx\u001b[0m in \u001b[0;36mpandas._libs.parsers.TextReader._read_rows\u001b[1;34m()\u001b[0m\n",
      "\u001b[1;32mpandas\\_libs\\parsers.pyx\u001b[0m in \u001b[0;36mpandas._libs.parsers.TextReader._convert_column_data\u001b[1;34m()\u001b[0m\n",
      "\u001b[1;32mpandas\\_libs\\parsers.pyx\u001b[0m in \u001b[0;36mpandas._libs.parsers.TextReader._convert_tokens\u001b[1;34m()\u001b[0m\n",
      "\u001b[1;32mpandas\\_libs\\parsers.pyx\u001b[0m in \u001b[0;36mpandas._libs.parsers.TextReader._convert_with_dtype\u001b[1;34m()\u001b[0m\n",
      "\u001b[1;32mpandas\\_libs\\parsers.pyx\u001b[0m in \u001b[0;36mpandas._libs.parsers.TextReader._string_convert\u001b[1;34m()\u001b[0m\n",
      "\u001b[1;32mpandas\\_libs\\parsers.pyx\u001b[0m in \u001b[0;36mpandas._libs.parsers._string_box_utf8\u001b[1;34m()\u001b[0m\n",
      "\u001b[1;31mUnicodeDecodeError\u001b[0m: 'utf-8' codec can't decode byte 0xd8 in position 1: invalid continuation byte"
     ]
    }
   ],
   "source": [
    "df = pd.read_table('Postnummerregister-ansi.txt', delim_whitespace=True, names=('Postnr', 'Poststed', 'blæ', 'blæ2'))"
   ]
  },
  {
   "cell_type": "markdown",
   "metadata": {},
   "source": [
    "## Kombiner til ein heil populasjon og lagre som JSON"
   ]
  },
  {
   "cell_type": "code",
   "execution_count": 6,
   "metadata": {
    "tags": []
   },
   "outputs": [
    {
     "output_type": "execute_result",
     "data": {
      "text/plain": "                         Name                      Email   Phoneno  \\\nPersonalno                                                           \n23079412414        Arve Sætre        Arve.Sætre@norge.no  77735556   \n23079412333       Oddny Green       Oddny.Green@norge.no  99006563   \n23079412252      Guttorm Engh      Guttorm.Engh@norge.no  92932950   \n23079412171         Iver Åsen         Iver.Åsen@norge.no  10618623   \n31010650596     Audun Aasland     Audun.Aasland@norge.no  53728147   \n27080350274     Frøya Mohamed     Frøya.Mohamed@norge.no  48123667   \n04090751315   Margrete Midtbø   Margrete.Midtbø@norge.no  29662752   \n18060550537    Marcus Myrvoll    Marcus.Myrvoll@norge.no  21665847   \n23090350056     Matthew Krogh     Matthew.Krogh@norge.no  65127845   \n23079418366         Bror Eide         Bror.Eide@norge.no  87074333   \n23079418285       Agathe Haga       Agathe.Haga@norge.no  16320745   \n23079418013     Ine Fjellheim     Ine.Fjellheim@norge.no  46896080   \n23079417815  Brede Guttormsen  Brede.Guttormsen@norge.no  55514256   \n\n                      Adress Postnummer    Poststed  \nPersonalno                                           \n23079412414  Test adresse 79       7503    STJ�RDAL  \n23079412333  Test adresse 14       1011        OSLO  \n23079412252  Test adresse 98       3924   PORSGRUNN  \n23079412171  Test adresse 83       1920   S�RUMSAND  \n31010650596   Test adresse 8       7734   STEINKJER  \n27080350274  Test adresse 25       0404        OSLO  \n04090751315   Test adresse 6       1344      HASLUM  \n18060550537  Test adresse 20       3717       SKIEN  \n23090350056  Test adresse 27       1445      DR�BAK  \n23079418366   Test adresse 8       5907   ALVERSUND  \n23079418285  Test adresse 79       4302     SANDNES  \n23079418013  Test adresse 44       7370  BREKKEBYGD  \n23079417815   Test adresse 3       6851     SOGNDAL  ",
      "text/html": "<div>\n<style scoped>\n    .dataframe tbody tr th:only-of-type {\n        vertical-align: middle;\n    }\n\n    .dataframe tbody tr th {\n        vertical-align: top;\n    }\n\n    .dataframe thead th {\n        text-align: right;\n    }\n</style>\n<table border=\"1\" class=\"dataframe\">\n  <thead>\n    <tr style=\"text-align: right;\">\n      <th></th>\n      <th>Name</th>\n      <th>Email</th>\n      <th>Phoneno</th>\n      <th>Adress</th>\n      <th>Postnummer</th>\n      <th>Poststed</th>\n    </tr>\n    <tr>\n      <th>Personalno</th>\n      <th></th>\n      <th></th>\n      <th></th>\n      <th></th>\n      <th></th>\n      <th></th>\n    </tr>\n  </thead>\n  <tbody>\n    <tr>\n      <th>23079412414</th>\n      <td>Arve Sætre</td>\n      <td>Arve.Sætre@norge.no</td>\n      <td>77735556</td>\n      <td>Test adresse 79</td>\n      <td>7503</td>\n      <td>STJ�RDAL</td>\n    </tr>\n    <tr>\n      <th>23079412333</th>\n      <td>Oddny Green</td>\n      <td>Oddny.Green@norge.no</td>\n      <td>99006563</td>\n      <td>Test adresse 14</td>\n      <td>1011</td>\n      <td>OSLO</td>\n    </tr>\n    <tr>\n      <th>23079412252</th>\n      <td>Guttorm Engh</td>\n      <td>Guttorm.Engh@norge.no</td>\n      <td>92932950</td>\n      <td>Test adresse 98</td>\n      <td>3924</td>\n      <td>PORSGRUNN</td>\n    </tr>\n    <tr>\n      <th>23079412171</th>\n      <td>Iver Åsen</td>\n      <td>Iver.Åsen@norge.no</td>\n      <td>10618623</td>\n      <td>Test adresse 83</td>\n      <td>1920</td>\n      <td>S�RUMSAND</td>\n    </tr>\n    <tr>\n      <th>31010650596</th>\n      <td>Audun Aasland</td>\n      <td>Audun.Aasland@norge.no</td>\n      <td>53728147</td>\n      <td>Test adresse 8</td>\n      <td>7734</td>\n      <td>STEINKJER</td>\n    </tr>\n    <tr>\n      <th>27080350274</th>\n      <td>Frøya Mohamed</td>\n      <td>Frøya.Mohamed@norge.no</td>\n      <td>48123667</td>\n      <td>Test adresse 25</td>\n      <td>0404</td>\n      <td>OSLO</td>\n    </tr>\n    <tr>\n      <th>04090751315</th>\n      <td>Margrete Midtbø</td>\n      <td>Margrete.Midtbø@norge.no</td>\n      <td>29662752</td>\n      <td>Test adresse 6</td>\n      <td>1344</td>\n      <td>HASLUM</td>\n    </tr>\n    <tr>\n      <th>18060550537</th>\n      <td>Marcus Myrvoll</td>\n      <td>Marcus.Myrvoll@norge.no</td>\n      <td>21665847</td>\n      <td>Test adresse 20</td>\n      <td>3717</td>\n      <td>SKIEN</td>\n    </tr>\n    <tr>\n      <th>23090350056</th>\n      <td>Matthew Krogh</td>\n      <td>Matthew.Krogh@norge.no</td>\n      <td>65127845</td>\n      <td>Test adresse 27</td>\n      <td>1445</td>\n      <td>DR�BAK</td>\n    </tr>\n    <tr>\n      <th>23079418366</th>\n      <td>Bror Eide</td>\n      <td>Bror.Eide@norge.no</td>\n      <td>87074333</td>\n      <td>Test adresse 8</td>\n      <td>5907</td>\n      <td>ALVERSUND</td>\n    </tr>\n    <tr>\n      <th>23079418285</th>\n      <td>Agathe Haga</td>\n      <td>Agathe.Haga@norge.no</td>\n      <td>16320745</td>\n      <td>Test adresse 79</td>\n      <td>4302</td>\n      <td>SANDNES</td>\n    </tr>\n    <tr>\n      <th>23079418013</th>\n      <td>Ine Fjellheim</td>\n      <td>Ine.Fjellheim@norge.no</td>\n      <td>46896080</td>\n      <td>Test adresse 44</td>\n      <td>7370</td>\n      <td>BREKKEBYGD</td>\n    </tr>\n    <tr>\n      <th>23079417815</th>\n      <td>Brede Guttormsen</td>\n      <td>Brede.Guttormsen@norge.no</td>\n      <td>55514256</td>\n      <td>Test adresse 3</td>\n      <td>6851</td>\n      <td>SOGNDAL</td>\n    </tr>\n  </tbody>\n</table>\n</div>"
     },
     "metadata": {},
     "execution_count": 6
    }
   ],
   "source": [
    "pnum = []\n",
    "name = []\n",
    "email = []\n",
    "fnum = []\n",
    "vig = []\n",
    "adress = []\n",
    "for t in testpnr:\n",
    "    nam, ema = randomName(data)\n",
    "    pnum.append(t)\n",
    "    name.append(nam)\n",
    "    email.append(ema)\n",
    "    fnum.append(tlfnr())\n",
    "    adress.append(\"Test adresse \" + str(random.randint(1, 100)))\n",
    "\n",
    "populasjon = pd.DataFrame()\n",
    "populasjon['Personalno'] = pnum\n",
    "populasjon['Name'] = name\n",
    "populasjon['Email'] = email\n",
    "populasjon['Phoneno'] = fnum\n",
    "populasjon['Adress'] = adress\n",
    "populasjon[post.columns] = pd.concat([post.sample(len(testpnr), replace = True, axis = 0)], axis=0, ignore_index=True)\n",
    "populasjon.reset_index(drop=True)\n",
    "populasjon = populasjon.set_index(\"Personalno\")\n",
    "populasjon.to_json(r'populasjon.json')\n",
    "populasjon"
   ]
  },
  {
   "cell_type": "markdown",
   "metadata": {},
   "source": [
    "## Kontaktinfo -> CSV for SQL import"
   ]
  },
  {
   "cell_type": "code",
   "execution_count": 7,
   "metadata": {},
   "outputs": [],
   "source": [
    "populasjon.to_csv('contact.csv')"
   ]
  },
  {
   "cell_type": "markdown",
   "metadata": {},
   "source": [
    "## VIGO-Grades -> CSV for SQL import"
   ]
  },
  {
   "cell_type": "code",
   "execution_count": 8,
   "metadata": {},
   "outputs": [],
   "source": [
    "vigo_grades = pd.DataFrame()\n",
    "vigo_grades['personalno'] = pnum\n",
    "vigo_grades['RLE'] = np.random.randint(1, 6, len(testpnr))\n",
    "vigo_grades['Naturfag'] = np.random.randint(1, 6, len(testpnr))\n",
    "vigo_grades['Matematikk'] = np.random.randint(1, 6, len(testpnr))\n",
    "vigo_grades = vigo_grades.reset_index(drop=True)\n",
    "vigo_grades = vigo_grades.set_index(\"personalno\")\n",
    "vigo_grades.to_csv('vigo_grades.csv')"
   ]
  },
  {
   "cell_type": "markdown",
   "metadata": {},
   "source": [
    "## VIGO-Absence -> CSV for SQL import"
   ]
  },
  {
   "cell_type": "code",
   "execution_count": 9,
   "metadata": {},
   "outputs": [],
   "source": [
    "vigo_absence = pd.DataFrame()\n",
    "vigo_absence ['personalno'] = pnum\n",
    "vigo_absence ['RLE'] = abs(np.random.normal(0.05, 0.05, len(testpnr)))\n",
    "vigo_absence ['Naturfag'] = abs(np.random.normal(0.05, 0.05, len(testpnr)))\n",
    "vigo_absence ['Matematikk'] = abs(np.random.normal(0.05, 0.05, len(testpnr)))\n",
    "vigo_absence = vigo_absence.reset_index(drop=True)\n",
    "vigo_absence = vigo_absence.set_index(\"personalno\")\n",
    "vigo_absence.to_csv('vigo_absence.csv')"
   ]
  },
  {
   "cell_type": "markdown",
   "metadata": {},
   "source": [
    "## Helsenorge-fastlege -> CSV for SQL import"
   ]
  },
  {
   "cell_type": "code",
   "execution_count": 10,
   "metadata": {},
   "outputs": [],
   "source": [
    "docnam = []\n",
    "for i in testpnr:\n",
    "    tmp, _ = randomName(data)\n",
    "    docnam.append(tmp)\n",
    "\n",
    "healthgp = pd.DataFrame()\n",
    "healthgp['personalno'] = pnum\n",
    "healthgp['GP'] = docnam\n",
    "healthgp = healthgp.reset_index(drop=True)\n",
    "healthgp = healthgp.set_index(\"personalno\")\n",
    "healthgp.to_csv('healthgp.csv')"
   ]
  }
 ],
 "metadata": {
  "language_info": {
   "codemirror_mode": {
    "name": "ipython",
    "version": 3
   },
   "file_extension": ".py",
   "mimetype": "text/x-python",
   "name": "python",
   "nbconvert_exporter": "python",
   "pygments_lexer": "ipython3",
   "version": "3.8.3-final"
  },
  "orig_nbformat": 2,
  "kernelspec": {
   "name": "python38364bitpydigdirconda79d9abb225414d81a71086b23337a662",
   "display_name": "Python 3.8.3 64-bit ('pyDigDir': conda)"
  }
 },
 "nbformat": 4,
 "nbformat_minor": 2
}