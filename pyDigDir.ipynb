{
 "cells": [
  {
   "cell_type": "markdown",
   "metadata": {},
   "source": [
    "# Datagenerering til DigDirCamp 2020\n",
    "\n",
    "av Bjørn Christian Weinbach, DigDir Campar.\n",
    "\n",
    "## Bakgrunn\n",
    "\n",
    "I vår applikasjon skal me demonstrere korleis tilgang til eins eigne persondata kan gjere det enklare å navigere i den norske offentlege sektor, spesielt for ungdom. Denne dataen er ikkje tilgjengeleg vha API i dag og vi er nøydd å generere denne dataen sjølv. Denne jupyter notebooken inneheld python-kode for generering av syntetiske data for ein populasjon som blei brukt som ein del av forarbeidet til prosjektet til DigDir Camparane i 2020.\n",
    "\n",
    "## Naudsynte imports"
   ]
  },
  {
   "cell_type": "code",
   "execution_count": null,
   "metadata": {},
   "outputs": [],
   "source": [
    "import pandas as pd\n",
    "import numpy as np\n",
    "import datetime\n",
    "import random\n",
    "import datetime"
   ]
  },
  {
   "cell_type": "markdown",
   "metadata": {},
   "source": [
    "## Globale variablar\n",
    "\n",
    "$$\\text{testpnr} = \\text{Test-personnummer}$$"
   ]
  },
  {
   "cell_type": "code",
   "execution_count": null,
   "metadata": {},
   "outputs": [],
   "source": [
    "testpnr = ['23079412414',\n",
    "           '23079412333',\n",
    "           '23079412252',\n",
    "           '23079412171',\n",
    "           '31010650596',\n",
    "           '27080350274',\n",
    "           '04090751315',\n",
    "           '18060550537',\n",
    "           '23090350056',\n",
    "           '23079418366',\n",
    "           '23079418285',\n",
    "           '23079418013',\n",
    "           '23079417815']"
   ]
  },
  {
   "cell_type": "markdown",
   "metadata": {},
   "source": [
    "## Globale Funksjonar"
   ]
  },
  {
   "cell_type": "code",
   "execution_count": null,
   "metadata": {
    "tags": []
   },
   "outputs": [],
   "source": [
    "def tlfnr():\n",
    "    \"\"\"Return phone no in the norwegian style.\"\"\"\n",
    "    return random.randint(10000000, 99999999)\n",
    "\n",
    "def randomName(data):\n",
    "    \"\"\"Return random norwegian male or female name.\"\"\"\n",
    "    if random.randint(0, 1) == 1:   \n",
    "        malename = np.array(data[\"Malename\"].sample(1, replace = True))\n",
    "        malelastname = np.array(data[\"Lastname\"].sample(1, replace = True))\n",
    "        return (malename + \" \" + malelastname), (malename + \".\" + malelastname + \"@norge.no\")\n",
    "    else:\n",
    "        femalename = np.array(data[\"Femalename\"].sample(1, replace = True))\n",
    "        femalelastname = np.array(data[\"Lastname\"].sample(1, replace = True))\n",
    "        return (femalename + \" \" + femalelastname), (femalename + \".\" + femalelastname + \"@norge.no\")"
   ]
  },
  {
   "cell_type": "markdown",
   "metadata": {},
   "source": [
    "## Globale klasser"
   ]
  },
  {
   "cell_type": "code",
   "execution_count": null,
   "metadata": {},
   "outputs": [],
   "source": [
    "class vigo:\n",
    "    \"\"\"\n",
    "    Class for vigo-data in data generation code.\n",
    "\n",
    "    Methods:\n",
    "        __init__() : initialize class with random variables\n",
    "    \"\"\"\n",
    "\n",
    "    def __init__(self):\n",
    "        \"\"\"Initialize object with random data.\"\"\"\n",
    "        self.grades = {'RLE' : random.randint(1, 6),\n",
    "                       'Naturfag' : random.randint(1, 6),\n",
    "                       'Matematikk' : random.randint(1, 6)}\n",
    "        self.absence = {'RLE' : abs(np.random.normal(0.05, 0.03)),\n",
    "                        'Naturfag' : abs(np.random.normal(0.05, 0.03)),\n",
    "                        'Matematikk' : abs(np.random.normal(0.05, 0.03))}"
   ]
  },
  {
   "cell_type": "markdown",
   "metadata": {},
   "source": [
    "## Last inn datasett\n",
    "\n",
    "### Kjelder\n",
    "\n",
    "Norske navn: https://no.wikipedia.org/wiki/Liste_over_norske_mannsnavn , https://no.wikipedia.org/wiki/Liste_over_norske_kvinnenavn og https://no.wikipedia.org/wiki/Liste_over_norske_etternavn\n",
    "\n",
    "Postnummer: https://data.norge.no/datasets/5e6847ba-156d-4e14-85d3-8d7f8b727523"
   ]
  },
  {
   "cell_type": "code",
   "execution_count": null,
   "metadata": {},
   "outputs": [],
   "source": [
    "data = pd.read_csv('navn.csv')\n",
    "post = pd.read_csv('postnr.csv', converters={'Postnummer': lambda x: str(x)})"
   ]
  },
  {
   "cell_type": "markdown",
   "metadata": {},
   "source": [
    "## Kombiner til ein heil populasjon og lagre som JSON"
   ]
  },
  {
   "cell_type": "code",
   "execution_count": null,
   "metadata": {
    "tags": []
   },
   "outputs": [],
   "source": [
    "pnum = []\n",
    "name = []\n",
    "email = []\n",
    "fnum = []\n",
    "vig = []\n",
    "adress = []\n",
    "for t in testpnr:\n",
    "    nam, ema = randomName(data)\n",
    "    pnum.append(t)\n",
    "    name.append(nam)\n",
    "    email.append(ema)\n",
    "    fnum.append(tlfnr())\n",
    "    vig.append(vigo())\n",
    "    adress.append(\"Test adresse \" + str(random.randint(1, 100)))\n",
    "\n",
    "populasjon = pd.DataFrame()\n",
    "populasjon['Personalno'] = pnum\n",
    "populasjon['Name'] = name\n",
    "populasjon['Email'] = email\n",
    "populasjon['Phoneno'] = fnum\n",
    "populasjon['Adress'] = adress\n",
    "populasjon[post.columns] = pd.concat([post.sample(len(testpnr), replace = True, axis = 0)], axis=0, ignore_index=True)\n",
    "populasjon['VIGO'] = [{'Grade' : v.grades, 'Absence' : v.absence} for v in vig]\n",
    "populasjon = populasjon.reset_index(drop=True)\n",
    "populasjon = populasjon.set_index(\"Personalno\")\n",
    "populasjon.to_json(r'populasjon.json')"
   ]
  }
 ],
 "metadata": {
  "language_info": {
   "codemirror_mode": {
    "name": "ipython",
    "version": 3
   },
   "file_extension": ".py",
   "mimetype": "text/x-python",
   "name": "python",
   "nbconvert_exporter": "python",
   "pygments_lexer": "ipython3",
   "version": "3.8.3-final"
  },
  "orig_nbformat": 2,
  "kernelspec": {
   "name": "python38364bitpydigdirconda79d9abb225414d81a71086b23337a662",
   "display_name": "Python 3.8.3 64-bit ('pyDigDir': conda)"
  }
 },
 "nbformat": 4,
 "nbformat_minor": 2
}