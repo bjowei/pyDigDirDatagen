{
 "cells": [
  {
   "cell_type": "markdown",
   "metadata": {},
   "source": [
    "# Datagenerering til DigDirCamp 2020\n",
    "\n",
    "av Bjørn Christian Weinbach, DigDir Campar.\n",
    "\n",
    "## Bakgrunn\n",
    "\n",
    "I vår applikasjon skal me demonstrere korleis tilgang til eins eigne persondata kan gjere det enklare å navigere i den norske offentlege sektor, spesielt for ungdom. Denne dataen er ikkje tilgjengeleg vha API i dag og vi er nøydd å generere denne dataen sjølv. Denne jupyter notebooken inneheld python-kode for generering av syntetiske data for ein populasjon som blei brukt som ein del av forarbeidet til prosjektet til DigDir Camparane i 2020.\n",
    "\n",
    "## Naudsynte imports"
   ]
  },
  {
   "cell_type": "code",
   "execution_count": null,
   "metadata": {},
   "outputs": [],
   "source": [
    "import pandas as pd\n",
    "import numpy as np\n",
    "import datetime\n",
    "import random\n",
    "import datetime"
   ]
  },
  {
   "cell_type": "markdown",
   "metadata": {},
   "source": [
    "## Globale variablar\n",
    "\n",
    "$$\\text{testpnr} = \\text{Test-personnummer}$$"
   ]
  },
  {
   "cell_type": "code",
   "execution_count": null,
   "metadata": {},
   "outputs": [],
   "source": [
    "testpnr = ['23079412414',\n",
    "           '23079412333',\n",
    "           '23079412252',\n",
    "           '23079412171',\n",
    "           '31010650596',\n",
    "           '27080350274',\n",
    "           '04090751315',\n",
    "           '18060550537',\n",
    "           '23090350056',\n",
    "           '23079418366',\n",
    "           '23079418285',\n",
    "           '23079418013',\n",
    "           '23079417815']"
   ]
  },
  {
   "cell_type": "markdown",
   "metadata": {},
   "source": [
    "## Globale Funksjonar"
   ]
  },
  {
   "cell_type": "code",
   "execution_count": null,
   "metadata": {
    "tags": []
   },
   "outputs": [],
   "source": [
    "def tlfnr():\n",
    "    \"\"\"Return phone no in the norwegian style.\"\"\"\n",
    "    return random.randint(10000000, 99999999)\n",
    "\n",
    "def randomName(data):\n",
    "    \"\"\"Return random norwegian male or female name.\"\"\"\n",
    "    if random.randint(0, 1) == 1:   \n",
    "        malename = np.array(data[\"Herrenavn\"].sample(1, replace = True))\n",
    "        malelastname = np.array(data[\"Etternavn\"].sample(1, replace = True))\n",
    "        return (malename + \" \" + malelastname)[0], (malename + \".\" + malelastname + \"@norge.no\")[0]\n",
    "    else:\n",
    "        femalename = np.array(data[\"Kvinnenavn\"].sample(1, replace = True))\n",
    "        femalelastname = np.array(data[\"Etternavn\"].sample(1, replace = True))\n",
    "        return (femalename + \" \" + femalelastname)[0], (femalename + \".\" + femalelastname + \"@norge.no\")[0]"
   ]
  },
  {
   "cell_type": "markdown",
   "metadata": {},
   "source": [
    "## Last inn datasett\n",
    "\n",
    "### Kjelder\n",
    "\n",
    "Norske navn: https://no.wikipedia.org/wiki/Liste_over_norske_mannsnavn , https://no.wikipedia.org/wiki/Liste_over_norske_kvinnenavn og https://no.wikipedia.org/wiki/Liste_over_norske_etternavn\n",
    "\n",
    "Postnummer: https://data.norge.no/datasets/5e6847ba-156d-4e14-85d3-8d7f8b727523"
   ]
  },
  {
   "cell_type": "code",
   "execution_count": null,
   "metadata": {},
   "outputs": [],
   "source": [
    "data = pd.read_csv('navn.csv')\n",
    "post = pd.read_csv('postnr.csv', converters={'field_postnummer': lambda x: str(x)}, delimiter=';')"
   ]
  },
  {
   "cell_type": "markdown",
   "metadata": {},
   "source": [
    "## Kombiner til ein heil populasjon"
   ]
  },
  {
   "cell_type": "code",
   "execution_count": null,
   "metadata": {
    "tags": []
   },
   "outputs": [],
   "source": [
    "titl = []\n",
    "pnum = []\n",
    "name = []\n",
    "email = []\n",
    "fnum = []\n",
    "vig = []\n",
    "adress = []\n",
    "i = 0\n",
    "for t in testpnr:\n",
    "    titl.append(\"Node \" + str(i))\n",
    "    nam, ema = randomName(data)\n",
    "    pnum.append(t)\n",
    "    name.append(nam)\n",
    "    email.append(ema)\n",
    "    fnum.append(tlfnr())\n",
    "    adress.append(\"Test adresse \" + str(random.randint(1, 100)))\n",
    "    i += 1\n",
    "\n",
    "populasjon = pd.DataFrame()\n",
    "populasjon['title'] = titl\n",
    "populasjon['field_personnummer'] = pnum\n",
    "populasjon['field_namn'] = name\n",
    "populasjon['field_epost'] = email\n",
    "populasjon['field_tlf'] = fnum\n",
    "populasjon['field_adresse'] = adress\n",
    "populasjon[post.columns] = pd.concat([post.sample(len(testpnr), replace = True, axis = 0)], axis=0, ignore_index=True)\n",
    "populasjon.reset_index(drop=True)\n",
    "populasjon = populasjon.set_index(\"title\")\n",
    "populasjon"
   ]
  },
  {
   "cell_type": "markdown",
   "metadata": {},
   "source": [
    "## Populasjon -> CSV for Drupal import"
   ]
  },
  {
   "cell_type": "code",
   "execution_count": null,
   "metadata": {},
   "outputs": [],
   "source": [
    "populasjon.to_csv('personer.csv')"
   ]
  },
  {
   "cell_type": "markdown",
   "metadata": {},
   "source": [
    "## VIGO-> CSV for Drupal import"
   ]
  },
  {
   "cell_type": "code",
   "execution_count": null,
   "metadata": {},
   "outputs": [],
   "source": [
    "vigo = pd.DataFrame()\n",
    "vigo['title'] = titl\n",
    "vigo['field_personnummer_vigo'] = pnum\n",
    "vigo['field_rle_karakter'] = np.random.randint(1, 6, len(testpnr))\n",
    "vigo['field_naturfag_karakter'] = np.random.randint(1, 6, len(testpnr))\n",
    "vigo['field_matematikk_karakter'] = np.random.randint(1, 6, len(testpnr))\n",
    "vigo['field_rle_fravaer'] = abs(np.random.normal(0.05, 0.05, len(testpnr)))\n",
    "vigo['field_naturfag_fravaer'] = abs(np.random.normal(0.05, 0.05, len(testpnr)))\n",
    "vigo['field_matematikk_fravaer'] = abs(np.random.normal(0.05, 0.05, len(testpnr)))\n",
    "vigo = vigo.reset_index(drop=True)\n",
    "vigo = vigo.set_index(\"title\")\n",
    "vigo.to_csv('vigo.csv')\n",
    "vigo"
   ]
  },
  {
   "cell_type": "markdown",
   "metadata": {},
   "source": [
    "## Helsenorge-fastlege -> CSV for SQL import"
   ]
  },
  {
   "cell_type": "code",
   "execution_count": null,
   "metadata": {},
   "outputs": [],
   "source": [
    "populasjon['field_poststad'][0]"
   ]
  },
  {
   "cell_type": "code",
   "execution_count": null,
   "metadata": {},
   "outputs": [],
   "source": [
    "docnam = []\n",
    "clinic = []\n",
    "i = 0\n",
    "for _ in testpnr:\n",
    "    tmp1, _ = randomName(data)\n",
    "    tmp2 = np.array(populasjon['field_poststad'])[i] + ' Helsesenter'\n",
    "    docnam.append(tmp1)\n",
    "    clinic.append(tmp2)\n",
    "    i += 1\n",
    "\n",
    "health = pd.DataFrame()\n",
    "health['title'] = titl\n",
    "health['field_personnummer_helse'] = pnum\n",
    "health['field_fastlege'] = docnam\n",
    "health['field_legesenter'] = clinic\n",
    "health = health.reset_index(drop=True)\n",
    "healthgp = health.set_index(\"title\")\n",
    "healthgp.to_csv('helse.csv')\n",
    "health"
   ]
  }
 ],
 "metadata": {
  "language_info": {
   "codemirror_mode": {
    "name": "ipython",
    "version": 3
   },
   "file_extension": ".py",
   "mimetype": "text/x-python",
   "name": "python",
   "nbconvert_exporter": "python",
   "pygments_lexer": "ipython3",
   "version": "3.8.3-final"
  },
  "orig_nbformat": 2,
  "kernelspec": {
   "name": "python38364bitpydigdirconda79d9abb225414d81a71086b23337a662",
   "display_name": "Python 3.8.3 64-bit ('pyDigDir': conda)"
  }
 },
 "nbformat": 4,
 "nbformat_minor": 2
}